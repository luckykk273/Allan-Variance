{
 "cells": [
  {
   "cell_type": "markdown",
   "id": "46afc4aa-6032-4820-8ca1-cace0e7a541a",
   "metadata": {},
   "source": [
    "# Intuitive Explanation For Code"
   ]
  },
  {
   "cell_type": "markdown",
   "id": "f6015d9a-5158-4436-8ca2-97c7b3d6f3ab",
   "metadata": {},
   "source": [
    "## Import Package"
   ]
  },
  {
   "cell_type": "code",
   "execution_count": 2,
   "id": "0c01234b-1630-4faf-a3d9-2ca4e5aff977",
   "metadata": {},
   "outputs": [],
   "source": [
    "import matplotlib\n",
    "import matplotlib.pyplot as plt\n",
    "import numpy as np"
   ]
  },
  {
   "cell_type": "code",
   "execution_count": 3,
   "id": "1fd6ac06-adf9-45e4-b3ee-1c735bc901db",
   "metadata": {},
   "outputs": [],
   "source": [
    "np.set_printoptions(linewidth=200)\n",
    "np.set_printoptions(precision=6)"
   ]
  },
  {
   "cell_type": "markdown",
   "id": "5ab2b770-2a5b-403d-a72c-9b450d55034e",
   "metadata": {},
   "source": [
    "## What does np.logspace mean?\n",
    "### Let values in linspace = x, values in logspace = y;  \n",
    "$log_{10}(y) = x$ :  \n",
    "$log_{10}(1) = 0$,  \n",
    "$log_{10}(1.258925) = 0.1$  \n",
    "...  \n",
    "\n",
    "**or** \n",
    "\n",
    "$10^{x} = y$ :  \n",
    "$10^{0} = 1$,  \n",
    "$10^{0.1} = 1.258925$  \n",
    "..."
   ]
  },
  {
   "cell_type": "code",
   "execution_count": 6,
   "id": "fa8f7891-688d-4dad-a0b5-8346c8d034b7",
   "metadata": {},
   "outputs": [
    {
     "name": "stdout",
     "output_type": "stream",
     "text": [
      "x: [0.  0.1 0.2 0.3 0.4 0.5 0.6 0.7 0.8 0.9 1. ]\n",
      "y: [ 1.        1.258925  1.584893  1.995262  2.511886  3.162278  3.981072  5.011872  6.309573  7.943282 10.      ]\n",
      "y to x: [0.  0.1 0.2 0.3 0.4 0.5 0.6 0.7 0.8 0.9 1. ]\n",
      "x to y: [ 1.        1.258925  1.584893  1.995262  2.511886  3.162278  3.981072  5.011872  6.309573  7.943282 10.      ]\n"
     ]
    }
   ],
   "source": [
    "lin_seq = np.linspace(start=0, stop=1, num=11)\n",
    "log_seq = np.logspace(start=0, stop=1, num=11)\n",
    "print('x:', lin_seq)\n",
    "print('y:', log_seq)\n",
    "print('y to x:', np.log10(log_seq))\n",
    "print('x to y:', np.array([10**i for i in lin_seq]))"
   ]
  },
  {
   "cell_type": "markdown",
   "id": "2e15caeb-ec70-4677-845b-506176686872",
   "metadata": {},
   "source": [
    "### We can see y in logspace will be like x in linspace(equally divided)"
   ]
  },
  {
   "cell_type": "code",
   "execution_count": 7,
   "id": "7f8e909b-85fe-40ad-8e00-137016bba032",
   "metadata": {},
   "outputs": [
    {
     "data": {
      "image/png": "[encoded data removed]",
      "text/plain": [
       "<Figure size 432x288 with 3 Axes>"
      ]
     },
     "metadata": {
      "needs_background": "light"
     },
     "output_type": "display_data"
    }
   ],
   "source": [
    "fig, axs = plt.subplots(3, 1)\n",
    "axs[0].plot(lin_seq, [1]*11, 'o-')\n",
    "axs[0].set_xticks(lin_seq)\n",
    "axs[0].set_title('x in linspace')\n",
    "axs[0].grid()\n",
    "\n",
    "axs[1].plot(log_seq, [1]*11, 'o-')\n",
    "axs[1].set_xticks(log_seq)\n",
    "axs[1].set_title('y in linspace')\n",
    "axs[1].grid()\n",
    "plt.setp(axs[1].xaxis.get_majorticklabels(), rotation=45)\n",
    "\n",
    "axs[2].plot(log_seq, [1]*11, 'o-')\n",
    "axs[2].set_xscale('log')\n",
    "axs[2].set_xticks(log_seq)\n",
    "axs[2].get_xaxis().set_major_formatter(matplotlib.ticker.ScalarFormatter())\n",
    "axs[2].set_title('y in logspace')\n",
    "axs[2].grid()\n",
    "plt.tight_layout()\n",
    "plt.show()"
   ]
  },
  {
   "cell_type": "markdown",
   "id": "2ef895b6-6625-4835-ad4b-3f0caff87441",
   "metadata": {
    "tags": []
   },
   "source": [
    "## What does Mmax mean?\n",
    "When calculate Allan variance, we compute Mmax as follow:  \n",
    "```N = len(data)```  \n",
    "```Mmax = 2**np.floor(np.log2(N / 2))```  \n",
    "\n",
    "$M_{max}$ means the maximum number of the clusters.  \n",
    "But why $M_{max} = 2^{floor(log_2(\\frac{N}{2}))}$ ?\n",
    "\n",
    "The formula of Allan variance is:  \n",
    "$\\sigma^2(\\tau) = \\frac{1}{(2\\tau^2)(N-2m)} \\sum_{k=1}^{N-2m} (\\theta_{k+2m} - 2\\theta_{k+m} + \\theta_k)^2$  \n",
    "\n",
    "To obtain a valid Allan variance, $N-2m \\geq 1$  \n",
    "We can get $\\frac{N-1}{2} \\geq m \\implies log_2{\\frac{N-1}{2}} \\geq log_2m$  \n",
    "We know:  \n",
    "$x^{log_xy} \\stackrel{log_x}{\\rightarrow} log_x{x^{log_xy}} = log_xy \\times log_xx = log_xy$  \n",
    "$log_2{\\frac{N-1}{2}} \\geq log_2m$  \n",
    "$2^{log_2{\\frac{N-1}{2}}} \\geq 2^{log_2m}$  \n",
    "$2^{log_2{\\frac{N-1}{2}}} \\geq m$"
   ]
  },
  {
   "cell_type": "markdown",
   "id": "6acd2eaf-4591-4b97-8fee-8c570cc5ff04",
   "metadata": {},
   "source": [
    "## Why M should be integer and unique?\n",
    "When calculate Allan variance, we compute M as follow:  \n",
    "```M = np.logspace(np.log10(1), np.log10(M_max), num=max_num_M)```  \n",
    "```M = np.ceil(M)```  \n",
    "```M = np.unique(M)```  \n",
    "In Numpy, ```np.logspace``` are represented by log operation with base 10.  \n",
    "1. If we want to determine number of clusters in logspace, we should use ```np.log10(x)``` to represent.  2. Because clusters cannot be decimal, so we should transform it into integer.  \n",
    "3. "
   ]
  },
  {
   "cell_type": "code",
   "execution_count": 8,
   "id": "ed8266c5-2dfc-42d3-ad71-44d1914c4432",
   "metadata": {},
   "outputs": [
    {
     "data": {
      "text/plain": [
       "2.0"
      ]
     },
     "execution_count": 8,
     "metadata": {},
     "output_type": "execute_result"
    }
   ],
   "source": [
    "np.array"
   ]
  }
 ],
 "metadata": {
  "kernelspec": {
   "display_name": "Python 3",
   "language": "python",
   "name": "python3"
  },
  "language_info": {
   "codemirror_mode": {
    "name": "ipython",
    "version": 3
   },
   "file_extension": ".py",
   "mimetype": "text/x-python",
   "name": "python",
   "nbconvert_exporter": "python",
   "pygments_lexer": "ipython3",
   "version": "3.7.6"
  }
 },
 "nbformat": 4,
 "nbformat_minor": 5
}
